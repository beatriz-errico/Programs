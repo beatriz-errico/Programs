{
 "cells": [
  {
   "cell_type": "code",
   "execution_count": 2,
   "metadata": {},
   "outputs": [],
   "source": [
    "%matplotlib inline"
   ]
  },
  {
   "cell_type": "code",
   "execution_count": 5,
   "metadata": {},
   "outputs": [
    {
     "data": {
      "text/plain": [
       "[<matplotlib.lines.Line2D at 0x7f128136e358>]"
      ]
     },
     "execution_count": 5,
     "metadata": {},
     "output_type": "execute_result"
    },
    {
     "data": {
      "image/png": "[encoded data removed]",
      "text/plain": [
       "<matplotlib.figure.Figure at 0x7f12815f7860>"
      ]
     },
     "metadata": {},
     "output_type": "display_data"
    }
   ],
   "source": [
    "# programa que busca encontrar o deltaX que minimiza o erro relativo para \n",
    "# o cálculo da segunda derivada da fução exponencial\n",
    "\n",
    "import numpy as np\n",
    "import matplotlib.pyplot as plt\n",
    "import matplotlib\n",
    "import math as m\n",
    "\n",
    "# funcao exponencial\n",
    "def f(x):\n",
    "    return np.exp(x)\n",
    "\n",
    "# segunda derivada, DFC\n",
    "def D2f(f,x):\n",
    "    dx = x[1]-x[0]\n",
    "    xp = x+dx\n",
    "    xm = x-dx\n",
    "    return (f(xp)-2.*f(x) + f(xm))/(dx*dx)\n",
    "\n",
    "# funcao que me retorna o erro relativo, sendo f1 a funcao calculada e f2 a exata\n",
    "def error(f1, f2):\n",
    "    return abs((f1 - f2) / (f2))\n",
    "\n",
    "# preciso fazer o n dobrar a cada passo e calcular o erro relativo\n",
    "\n",
    "listdeltaX =[]            #lista que vai guardar meus valores de deltaX\n",
    "listRelError = []         #lista que vai guardar meus respectivos erros para diferentes deltaX\n",
    "\n",
    "for n in range(10, 100000, 10000): #faco meu n variar no contador do for\n",
    "    x = np.linspace(0.,10.,n) #crio meu vetor x com n termos\n",
    "    D2_exp = D2f(f, x)        #calculo a segunda derivada já dando como parametros a funcao f(x)= exp(x) e os x\n",
    "    \n",
    "    lastD2 = D2_exp[(n-1)]    # pegando os ultimos elementos da minha lista da segunda derivada e da minha funcao\n",
    "    lastf = f(x[n-1])\n",
    "    \n",
    "    e = error(lastD2, lastf)  # calculando meu erro relativo  \n",
    "    deltaX = x[1] - x[0]      # calculando meu deltaX\n",
    "    \n",
    "    listdeltaX.append(m.log10(deltaX))          # guardando meus valores nas listas\n",
    "    listRelError.append(m.log10(e))\n",
    "    \n",
    "plt.plot(listdeltaX, listRelError)"
   ]
  },
  {
   "cell_type": "code",
   "execution_count": null,
   "metadata": {},
   "outputs": [],
   "source": []
  }
 ],
 "metadata": {
  "kernelspec": {
   "display_name": "Python 3",
   "language": "python",
   "name": "python3"
  },
  "language_info": {
   "codemirror_mode": {
    "name": "ipython",
    "version": 3
   },
   "file_extension": ".py",
   "mimetype": "text/x-python",
   "name": "python",
   "nbconvert_exporter": "python",
   "pygments_lexer": "ipython3",
   "version": "3.6.6"
  }
 },
 "nbformat": 4,
 "nbformat_minor": 2
}
